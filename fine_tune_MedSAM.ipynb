{
  "cells": [
    {
      "cell_type": "markdown",
      "metadata": {
        "colab_type": "text",
        "id": "view-in-github"
      },
      "source": [
        "<a href=\"https://colab.research.google.com/github/bnsreenu/python_for_microscopists/blob/master/331_fine_tune_SAM_mito.ipynb\" target=\"_parent\"><img src=\"https://colab.research.google.com/assets/colab-badge.svg\" alt=\"Open In Colab\"/></a>"
      ]
    },
    {
      "cell_type": "markdown",
      "metadata": {
        "id": "VCm5afA7UaQu"
      },
      "source": [
        "**This notebook is for the process of fine-tuning the MedSAM Model (Segment Anything in Medical Images) using our custom dataset**.\n",
        "<p>\n",
        "\n",
        "\n",
        "**MedSAM paper:** https://arxiv.org/pdf/2304.12306​\n",
        "**<br>SAM paper:** https://arxiv.org/pdf/2304.02643.pdf​\n",
        "\n",
        "**MedSAM repository:** https://github.com/bowang-lab/MedSAM\n",
        "**<br>MedSAM model in Hugging Face:** https://huggingface.co/flaviagiammarino/medsam-vit-base\n",
        "<p>\n",
        "\n",
        "**Link to the dataset used in this process:** https://drive.google.com/file/d/1m7tMpE9qEcQGQjL_BdMD-Mvgmc44hG1Y/view?usp=drive_link\n",
        "**<p>Data description**\n",
        "<br>Image type: 3D (CT Images); Format: NifTI (.nii.gz)\n",
        "<br>Height: 512px; Width: 512px; Depth: not fixed\n",
        "\n",
        "This code has taken referance from these notebooks but completely modified to work for our custom dataset.\n",
        "<br>https://github.com/bnsreenu/python_for_microscopists/blob/master/331_fine_tune_SAM_mito.ipynb\n",
        "<br>https://github.com/NielsRogge/Transformers-Tutorials/blob/master/SAM/Fine_tune_SAM_(segment_anything)_on_a_custom_dataset.ipynb\n",
        "<p>"
      ]
    },
    {
      "cell_type": "markdown",
      "metadata": {},
      "source": [
        "##### Install the required libraries"
      ]
    },
    {
      "cell_type": "code",
      "execution_count": 1,
      "metadata": {
        "id": "NSkTx6N-Mtyd"
      },
      "outputs": [
        {
          "name": "stdout",
          "output_type": "stream",
          "text": [
            "Collecting git+https://github.com/facebookresearch/segment-anything.git\n",
            "  Cloning https://github.com/facebookresearch/segment-anything.git to /tmp/pip-req-build-3pvhcrte\n",
            "  Running command git clone --filter=blob:none --quiet https://github.com/facebookresearch/segment-anything.git /tmp/pip-req-build-3pvhcrte\n",
            "  Resolved https://github.com/facebookresearch/segment-anything.git to commit dca509fe793f601edb92606367a655c15ac00fdf\n",
            "  Preparing metadata (setup.py) ... \u001b[?25ldone\n",
            "\u001b[?25hCollecting git+https://github.com/bowang-lab/MedSAM.git\n",
            "  Cloning https://github.com/bowang-lab/MedSAM.git to /tmp/pip-req-build-l6vz58ps\n",
            "  Running command git clone --filter=blob:none --quiet https://github.com/bowang-lab/MedSAM.git /tmp/pip-req-build-l6vz58ps\n",
            "  Resolved https://github.com/bowang-lab/MedSAM.git to commit c6dcd24ce143d861772740dc6b106dff0b79ad6d\n",
            "  Preparing metadata (setup.py) ... \u001b[?25ldone\n",
            "\u001b[?25hRequirement already satisfied: monai in /home/asjadnabeel/anaconda3/envs/indranil/lib/python3.11/site-packages (from medsam==0.0.1) (1.3.2)\n",
            "Requirement already satisfied: matplotlib in /home/asjadnabeel/anaconda3/envs/indranil/lib/python3.11/site-packages (from medsam==0.0.1) (3.9.0)\n",
            "Requirement already satisfied: scikit-image in /home/asjadnabeel/anaconda3/envs/indranil/lib/python3.11/site-packages (from medsam==0.0.1) (0.24.0)\n",
            "Requirement already satisfied: SimpleITK>=2.2.1 in /home/asjadnabeel/anaconda3/envs/indranil/lib/python3.11/site-packages (from medsam==0.0.1) (2.4.0)\n",
            "Requirement already satisfied: nibabel in /home/asjadnabeel/anaconda3/envs/indranil/lib/python3.11/site-packages (from medsam==0.0.1) (5.2.1)\n",
            "Requirement already satisfied: tqdm in /home/asjadnabeel/anaconda3/envs/indranil/lib/python3.11/site-packages (from medsam==0.0.1) (4.66.4)\n",
            "Requirement already satisfied: scipy in /home/asjadnabeel/anaconda3/envs/indranil/lib/python3.11/site-packages (from medsam==0.0.1) (1.14.0)\n",
            "Requirement already satisfied: ipympl in /home/asjadnabeel/anaconda3/envs/indranil/lib/python3.11/site-packages (from medsam==0.0.1) (0.9.4)\n",
            "Requirement already satisfied: opencv-python in /home/asjadnabeel/anaconda3/envs/indranil/lib/python3.11/site-packages (from medsam==0.0.1) (4.10.0.84)\n",
            "Requirement already satisfied: jupyterlab in /home/asjadnabeel/anaconda3/envs/indranil/lib/python3.11/site-packages (from medsam==0.0.1) (4.2.2)\n",
            "Requirement already satisfied: ipywidgets in /home/asjadnabeel/anaconda3/envs/indranil/lib/python3.11/site-packages (from medsam==0.0.1) (8.1.3)\n",
            "Requirement already satisfied: ipython-genutils in /home/asjadnabeel/anaconda3/envs/indranil/lib/python3.11/site-packages (from ipympl->medsam==0.0.1) (0.2.0)\n",
            "Requirement already satisfied: ipython<9 in /home/asjadnabeel/anaconda3/envs/indranil/lib/python3.11/site-packages (from ipympl->medsam==0.0.1) (8.25.0)\n",
            "Requirement already satisfied: numpy in /home/asjadnabeel/anaconda3/envs/indranil/lib/python3.11/site-packages (from ipympl->medsam==0.0.1) (1.26.4)\n",
            "Requirement already satisfied: pillow in /home/asjadnabeel/anaconda3/envs/indranil/lib/python3.11/site-packages (from ipympl->medsam==0.0.1) (10.3.0)\n",
            "Requirement already satisfied: traitlets<6 in /home/asjadnabeel/anaconda3/envs/indranil/lib/python3.11/site-packages (from ipympl->medsam==0.0.1) (5.14.3)\n",
            "Requirement already satisfied: comm>=0.1.3 in /home/asjadnabeel/anaconda3/envs/indranil/lib/python3.11/site-packages (from ipywidgets->medsam==0.0.1) (0.2.2)\n",
            "Requirement already satisfied: widgetsnbextension~=4.0.11 in /home/asjadnabeel/anaconda3/envs/indranil/lib/python3.11/site-packages (from ipywidgets->medsam==0.0.1) (4.0.11)\n",
            "Requirement already satisfied: jupyterlab-widgets~=3.0.11 in /home/asjadnabeel/anaconda3/envs/indranil/lib/python3.11/site-packages (from ipywidgets->medsam==0.0.1) (3.0.11)\n",
            "Requirement already satisfied: contourpy>=1.0.1 in /home/asjadnabeel/anaconda3/envs/indranil/lib/python3.11/site-packages (from matplotlib->medsam==0.0.1) (1.2.1)\n",
            "Requirement already satisfied: cycler>=0.10 in /home/asjadnabeel/anaconda3/envs/indranil/lib/python3.11/site-packages (from matplotlib->medsam==0.0.1) (0.12.1)\n",
            "Requirement already satisfied: fonttools>=4.22.0 in /home/asjadnabeel/anaconda3/envs/indranil/lib/python3.11/site-packages (from matplotlib->medsam==0.0.1) (4.53.0)\n",
            "Requirement already satisfied: kiwisolver>=1.3.1 in /home/asjadnabeel/anaconda3/envs/indranil/lib/python3.11/site-packages (from matplotlib->medsam==0.0.1) (1.4.5)\n",
            "Requirement already satisfied: packaging>=20.0 in /home/asjadnabeel/anaconda3/envs/indranil/lib/python3.11/site-packages (from matplotlib->medsam==0.0.1) (24.1)\n",
            "Requirement already satisfied: pyparsing>=2.3.1 in /home/asjadnabeel/anaconda3/envs/indranil/lib/python3.11/site-packages (from matplotlib->medsam==0.0.1) (3.1.2)\n",
            "Requirement already satisfied: python-dateutil>=2.7 in /home/asjadnabeel/anaconda3/envs/indranil/lib/python3.11/site-packages (from matplotlib->medsam==0.0.1) (2.9.0)\n",
            "Requirement already satisfied: async-lru>=1.0.0 in /home/asjadnabeel/anaconda3/envs/indranil/lib/python3.11/site-packages (from jupyterlab->medsam==0.0.1) (2.0.4)\n",
            "Requirement already satisfied: httpx>=0.25.0 in /home/asjadnabeel/anaconda3/envs/indranil/lib/python3.11/site-packages (from jupyterlab->medsam==0.0.1) (0.27.0)\n",
            "Requirement already satisfied: ipykernel>=6.5.0 in /home/asjadnabeel/anaconda3/envs/indranil/lib/python3.11/site-packages (from jupyterlab->medsam==0.0.1) (6.29.4)\n",
            "Requirement already satisfied: jinja2>=3.0.3 in /home/asjadnabeel/anaconda3/envs/indranil/lib/python3.11/site-packages (from jupyterlab->medsam==0.0.1) (3.1.4)\n",
            "Requirement already satisfied: jupyter-core in /home/asjadnabeel/anaconda3/envs/indranil/lib/python3.11/site-packages (from jupyterlab->medsam==0.0.1) (5.7.2)\n",
            "Requirement already satisfied: jupyter-lsp>=2.0.0 in /home/asjadnabeel/anaconda3/envs/indranil/lib/python3.11/site-packages (from jupyterlab->medsam==0.0.1) (2.2.5)\n",
            "Requirement already satisfied: jupyter-server<3,>=2.4.0 in /home/asjadnabeel/anaconda3/envs/indranil/lib/python3.11/site-packages (from jupyterlab->medsam==0.0.1) (2.14.1)\n",
            "Requirement already satisfied: jupyterlab-server<3,>=2.27.1 in /home/asjadnabeel/anaconda3/envs/indranil/lib/python3.11/site-packages (from jupyterlab->medsam==0.0.1) (2.27.2)\n",
            "Requirement already satisfied: notebook-shim>=0.2 in /home/asjadnabeel/anaconda3/envs/indranil/lib/python3.11/site-packages (from jupyterlab->medsam==0.0.1) (0.2.4)\n",
            "Requirement already satisfied: setuptools>=40.1.0 in /home/asjadnabeel/anaconda3/envs/indranil/lib/python3.11/site-packages (from jupyterlab->medsam==0.0.1) (69.5.1)\n",
            "Requirement already satisfied: tornado>=6.2.0 in /home/asjadnabeel/anaconda3/envs/indranil/lib/python3.11/site-packages (from jupyterlab->medsam==0.0.1) (6.4.1)\n",
            "Requirement already satisfied: torch>=1.9 in /home/asjadnabeel/anaconda3/envs/indranil/lib/python3.11/site-packages (from monai->medsam==0.0.1) (2.4.1)\n",
            "Requirement already satisfied: networkx>=2.8 in /home/asjadnabeel/anaconda3/envs/indranil/lib/python3.11/site-packages (from scikit-image->medsam==0.0.1) (3.3)\n",
            "Requirement already satisfied: imageio>=2.33 in /home/asjadnabeel/anaconda3/envs/indranil/lib/python3.11/site-packages (from scikit-image->medsam==0.0.1) (2.34.2)\n",
            "Requirement already satisfied: tifffile>=2022.8.12 in /home/asjadnabeel/anaconda3/envs/indranil/lib/python3.11/site-packages (from scikit-image->medsam==0.0.1) (2024.6.18)\n",
            "Requirement already satisfied: lazy-loader>=0.4 in /home/asjadnabeel/anaconda3/envs/indranil/lib/python3.11/site-packages (from scikit-image->medsam==0.0.1) (0.4)\n",
            "Requirement already satisfied: anyio in /home/asjadnabeel/anaconda3/envs/indranil/lib/python3.11/site-packages (from httpx>=0.25.0->jupyterlab->medsam==0.0.1) (4.4.0)\n",
            "Requirement already satisfied: certifi in /home/asjadnabeel/anaconda3/envs/indranil/lib/python3.11/site-packages (from httpx>=0.25.0->jupyterlab->medsam==0.0.1) (2024.6.2)\n",
            "Requirement already satisfied: httpcore==1.* in /home/asjadnabeel/anaconda3/envs/indranil/lib/python3.11/site-packages (from httpx>=0.25.0->jupyterlab->medsam==0.0.1) (1.0.5)\n",
            "Requirement already satisfied: idna in /home/asjadnabeel/anaconda3/envs/indranil/lib/python3.11/site-packages (from httpx>=0.25.0->jupyterlab->medsam==0.0.1) (3.7)\n",
            "Requirement already satisfied: sniffio in /home/asjadnabeel/anaconda3/envs/indranil/lib/python3.11/site-packages (from httpx>=0.25.0->jupyterlab->medsam==0.0.1) (1.3.1)\n",
            "Requirement already satisfied: h11<0.15,>=0.13 in /home/asjadnabeel/anaconda3/envs/indranil/lib/python3.11/site-packages (from httpcore==1.*->httpx>=0.25.0->jupyterlab->medsam==0.0.1) (0.14.0)\n",
            "Requirement already satisfied: debugpy>=1.6.5 in /home/asjadnabeel/anaconda3/envs/indranil/lib/python3.11/site-packages (from ipykernel>=6.5.0->jupyterlab->medsam==0.0.1) (1.6.7)\n",
            "Requirement already satisfied: jupyter-client>=6.1.12 in /home/asjadnabeel/anaconda3/envs/indranil/lib/python3.11/site-packages (from ipykernel>=6.5.0->jupyterlab->medsam==0.0.1) (8.6.2)\n",
            "Requirement already satisfied: matplotlib-inline>=0.1 in /home/asjadnabeel/anaconda3/envs/indranil/lib/python3.11/site-packages (from ipykernel>=6.5.0->jupyterlab->medsam==0.0.1) (0.1.7)\n",
            "Requirement already satisfied: nest-asyncio in /home/asjadnabeel/anaconda3/envs/indranil/lib/python3.11/site-packages (from ipykernel>=6.5.0->jupyterlab->medsam==0.0.1) (1.6.0)\n",
            "Requirement already satisfied: psutil in /home/asjadnabeel/anaconda3/envs/indranil/lib/python3.11/site-packages (from ipykernel>=6.5.0->jupyterlab->medsam==0.0.1) (5.9.0)\n",
            "Requirement already satisfied: pyzmq>=24 in /home/asjadnabeel/anaconda3/envs/indranil/lib/python3.11/site-packages (from ipykernel>=6.5.0->jupyterlab->medsam==0.0.1) (25.1.2)\n",
            "Requirement already satisfied: decorator in /home/asjadnabeel/anaconda3/envs/indranil/lib/python3.11/site-packages (from ipython<9->ipympl->medsam==0.0.1) (5.1.1)\n",
            "Requirement already satisfied: jedi>=0.16 in /home/asjadnabeel/anaconda3/envs/indranil/lib/python3.11/site-packages (from ipython<9->ipympl->medsam==0.0.1) (0.19.1)\n",
            "Requirement already satisfied: prompt-toolkit<3.1.0,>=3.0.41 in /home/asjadnabeel/anaconda3/envs/indranil/lib/python3.11/site-packages (from ipython<9->ipympl->medsam==0.0.1) (3.0.47)\n",
            "Requirement already satisfied: pygments>=2.4.0 in /home/asjadnabeel/anaconda3/envs/indranil/lib/python3.11/site-packages (from ipython<9->ipympl->medsam==0.0.1) (2.18.0)\n",
            "Requirement already satisfied: stack-data in /home/asjadnabeel/anaconda3/envs/indranil/lib/python3.11/site-packages (from ipython<9->ipympl->medsam==0.0.1) (0.6.2)\n",
            "Requirement already satisfied: typing-extensions>=4.6 in /home/asjadnabeel/anaconda3/envs/indranil/lib/python3.11/site-packages (from ipython<9->ipympl->medsam==0.0.1) (4.12.2)\n",
            "Requirement already satisfied: pexpect>4.3 in /home/asjadnabeel/anaconda3/envs/indranil/lib/python3.11/site-packages (from ipython<9->ipympl->medsam==0.0.1) (4.9.0)\n",
            "Requirement already satisfied: MarkupSafe>=2.0 in /home/asjadnabeel/anaconda3/envs/indranil/lib/python3.11/site-packages (from jinja2>=3.0.3->jupyterlab->medsam==0.0.1) (2.1.5)\n",
            "Requirement already satisfied: platformdirs>=2.5 in /home/asjadnabeel/anaconda3/envs/indranil/lib/python3.11/site-packages (from jupyter-core->jupyterlab->medsam==0.0.1) (4.2.2)\n",
            "Requirement already satisfied: argon2-cffi>=21.1 in /home/asjadnabeel/anaconda3/envs/indranil/lib/python3.11/site-packages (from jupyter-server<3,>=2.4.0->jupyterlab->medsam==0.0.1) (23.1.0)\n",
            "Requirement already satisfied: jupyter-events>=0.9.0 in /home/asjadnabeel/anaconda3/envs/indranil/lib/python3.11/site-packages (from jupyter-server<3,>=2.4.0->jupyterlab->medsam==0.0.1) (0.10.0)\n",
            "Requirement already satisfied: jupyter-server-terminals>=0.4.4 in /home/asjadnabeel/anaconda3/envs/indranil/lib/python3.11/site-packages (from jupyter-server<3,>=2.4.0->jupyterlab->medsam==0.0.1) (0.5.3)\n",
            "Requirement already satisfied: nbconvert>=6.4.4 in /home/asjadnabeel/anaconda3/envs/indranil/lib/python3.11/site-packages (from jupyter-server<3,>=2.4.0->jupyterlab->medsam==0.0.1) (7.16.4)\n",
            "Requirement already satisfied: nbformat>=5.3.0 in /home/asjadnabeel/anaconda3/envs/indranil/lib/python3.11/site-packages (from jupyter-server<3,>=2.4.0->jupyterlab->medsam==0.0.1) (5.10.4)\n",
            "Requirement already satisfied: overrides>=5.0 in /home/asjadnabeel/anaconda3/envs/indranil/lib/python3.11/site-packages (from jupyter-server<3,>=2.4.0->jupyterlab->medsam==0.0.1) (7.7.0)\n",
            "Requirement already satisfied: prometheus-client>=0.9 in /home/asjadnabeel/anaconda3/envs/indranil/lib/python3.11/site-packages (from jupyter-server<3,>=2.4.0->jupyterlab->medsam==0.0.1) (0.20.0)\n",
            "Requirement already satisfied: send2trash>=1.8.2 in /home/asjadnabeel/anaconda3/envs/indranil/lib/python3.11/site-packages (from jupyter-server<3,>=2.4.0->jupyterlab->medsam==0.0.1) (1.8.3)\n",
            "Requirement already satisfied: terminado>=0.8.3 in /home/asjadnabeel/anaconda3/envs/indranil/lib/python3.11/site-packages (from jupyter-server<3,>=2.4.0->jupyterlab->medsam==0.0.1) (0.18.1)\n",
            "Requirement already satisfied: websocket-client>=1.7 in /home/asjadnabeel/anaconda3/envs/indranil/lib/python3.11/site-packages (from jupyter-server<3,>=2.4.0->jupyterlab->medsam==0.0.1) (1.8.0)\n",
            "Requirement already satisfied: babel>=2.10 in /home/asjadnabeel/anaconda3/envs/indranil/lib/python3.11/site-packages (from jupyterlab-server<3,>=2.27.1->jupyterlab->medsam==0.0.1) (2.15.0)\n",
            "Requirement already satisfied: json5>=0.9.0 in /home/asjadnabeel/anaconda3/envs/indranil/lib/python3.11/site-packages (from jupyterlab-server<3,>=2.27.1->jupyterlab->medsam==0.0.1) (0.9.25)\n",
            "Requirement already satisfied: jsonschema>=4.18.0 in /home/asjadnabeel/anaconda3/envs/indranil/lib/python3.11/site-packages (from jupyterlab-server<3,>=2.27.1->jupyterlab->medsam==0.0.1) (4.22.0)\n",
            "Requirement already satisfied: requests>=2.31 in /home/asjadnabeel/anaconda3/envs/indranil/lib/python3.11/site-packages (from jupyterlab-server<3,>=2.27.1->jupyterlab->medsam==0.0.1) (2.32.3)\n",
            "Requirement already satisfied: six>=1.5 in /home/asjadnabeel/anaconda3/envs/indranil/lib/python3.11/site-packages (from python-dateutil>=2.7->matplotlib->medsam==0.0.1) (1.16.0)\n",
            "Requirement already satisfied: filelock in /home/asjadnabeel/anaconda3/envs/indranil/lib/python3.11/site-packages (from torch>=1.9->monai->medsam==0.0.1) (3.15.3)\n",
            "Requirement already satisfied: sympy in /home/asjadnabeel/anaconda3/envs/indranil/lib/python3.11/site-packages (from torch>=1.9->monai->medsam==0.0.1) (1.12.1)\n",
            "Requirement already satisfied: fsspec in /home/asjadnabeel/anaconda3/envs/indranil/lib/python3.11/site-packages (from torch>=1.9->monai->medsam==0.0.1) (2024.6.0)\n",
            "Requirement already satisfied: nvidia-cuda-nvrtc-cu12==12.1.105 in /home/asjadnabeel/anaconda3/envs/indranil/lib/python3.11/site-packages (from torch>=1.9->monai->medsam==0.0.1) (12.1.105)\n",
            "Requirement already satisfied: nvidia-cuda-runtime-cu12==12.1.105 in /home/asjadnabeel/anaconda3/envs/indranil/lib/python3.11/site-packages (from torch>=1.9->monai->medsam==0.0.1) (12.1.105)\n",
            "Requirement already satisfied: nvidia-cuda-cupti-cu12==12.1.105 in /home/asjadnabeel/anaconda3/envs/indranil/lib/python3.11/site-packages (from torch>=1.9->monai->medsam==0.0.1) (12.1.105)\n",
            "Requirement already satisfied: nvidia-cudnn-cu12==9.1.0.70 in /home/asjadnabeel/anaconda3/envs/indranil/lib/python3.11/site-packages (from torch>=1.9->monai->medsam==0.0.1) (9.1.0.70)\n",
            "Requirement already satisfied: nvidia-cublas-cu12==12.1.3.1 in /home/asjadnabeel/anaconda3/envs/indranil/lib/python3.11/site-packages (from torch>=1.9->monai->medsam==0.0.1) (12.1.3.1)\n",
            "Requirement already satisfied: nvidia-cufft-cu12==11.0.2.54 in /home/asjadnabeel/anaconda3/envs/indranil/lib/python3.11/site-packages (from torch>=1.9->monai->medsam==0.0.1) (11.0.2.54)\n",
            "Requirement already satisfied: nvidia-curand-cu12==10.3.2.106 in /home/asjadnabeel/anaconda3/envs/indranil/lib/python3.11/site-packages (from torch>=1.9->monai->medsam==0.0.1) (10.3.2.106)\n",
            "Requirement already satisfied: nvidia-cusolver-cu12==11.4.5.107 in /home/asjadnabeel/anaconda3/envs/indranil/lib/python3.11/site-packages (from torch>=1.9->monai->medsam==0.0.1) (11.4.5.107)\n",
            "Requirement already satisfied: nvidia-cusparse-cu12==12.1.0.106 in /home/asjadnabeel/anaconda3/envs/indranil/lib/python3.11/site-packages (from torch>=1.9->monai->medsam==0.0.1) (12.1.0.106)\n",
            "Requirement already satisfied: nvidia-nccl-cu12==2.20.5 in /home/asjadnabeel/anaconda3/envs/indranil/lib/python3.11/site-packages (from torch>=1.9->monai->medsam==0.0.1) (2.20.5)\n",
            "Requirement already satisfied: nvidia-nvtx-cu12==12.1.105 in /home/asjadnabeel/anaconda3/envs/indranil/lib/python3.11/site-packages (from torch>=1.9->monai->medsam==0.0.1) (12.1.105)\n",
            "Requirement already satisfied: triton==3.0.0 in /home/asjadnabeel/anaconda3/envs/indranil/lib/python3.11/site-packages (from torch>=1.9->monai->medsam==0.0.1) (3.0.0)\n",
            "Requirement already satisfied: nvidia-nvjitlink-cu12 in /home/asjadnabeel/anaconda3/envs/indranil/lib/python3.11/site-packages (from nvidia-cusolver-cu12==11.4.5.107->torch>=1.9->monai->medsam==0.0.1) (12.5.40)\n",
            "Requirement already satisfied: argon2-cffi-bindings in /home/asjadnabeel/anaconda3/envs/indranil/lib/python3.11/site-packages (from argon2-cffi>=21.1->jupyter-server<3,>=2.4.0->jupyterlab->medsam==0.0.1) (21.2.0)\n",
            "Requirement already satisfied: parso<0.9.0,>=0.8.3 in /home/asjadnabeel/anaconda3/envs/indranil/lib/python3.11/site-packages (from jedi>=0.16->ipython<9->ipympl->medsam==0.0.1) (0.8.4)\n",
            "Requirement already satisfied: attrs>=22.2.0 in /home/asjadnabeel/anaconda3/envs/indranil/lib/python3.11/site-packages (from jsonschema>=4.18.0->jupyterlab-server<3,>=2.27.1->jupyterlab->medsam==0.0.1) (23.2.0)\n",
            "Requirement already satisfied: jsonschema-specifications>=2023.03.6 in /home/asjadnabeel/anaconda3/envs/indranil/lib/python3.11/site-packages (from jsonschema>=4.18.0->jupyterlab-server<3,>=2.27.1->jupyterlab->medsam==0.0.1) (2023.12.1)\n",
            "Requirement already satisfied: referencing>=0.28.4 in /home/asjadnabeel/anaconda3/envs/indranil/lib/python3.11/site-packages (from jsonschema>=4.18.0->jupyterlab-server<3,>=2.27.1->jupyterlab->medsam==0.0.1) (0.35.1)\n",
            "Requirement already satisfied: rpds-py>=0.7.1 in /home/asjadnabeel/anaconda3/envs/indranil/lib/python3.11/site-packages (from jsonschema>=4.18.0->jupyterlab-server<3,>=2.27.1->jupyterlab->medsam==0.0.1) (0.18.1)\n",
            "Requirement already satisfied: python-json-logger>=2.0.4 in /home/asjadnabeel/anaconda3/envs/indranil/lib/python3.11/site-packages (from jupyter-events>=0.9.0->jupyter-server<3,>=2.4.0->jupyterlab->medsam==0.0.1) (2.0.7)\n",
            "Requirement already satisfied: pyyaml>=5.3 in /home/asjadnabeel/anaconda3/envs/indranil/lib/python3.11/site-packages (from jupyter-events>=0.9.0->jupyter-server<3,>=2.4.0->jupyterlab->medsam==0.0.1) (6.0.1)\n",
            "Requirement already satisfied: rfc3339-validator in /home/asjadnabeel/anaconda3/envs/indranil/lib/python3.11/site-packages (from jupyter-events>=0.9.0->jupyter-server<3,>=2.4.0->jupyterlab->medsam==0.0.1) (0.1.4)\n",
            "Requirement already satisfied: rfc3986-validator>=0.1.1 in /home/asjadnabeel/anaconda3/envs/indranil/lib/python3.11/site-packages (from jupyter-events>=0.9.0->jupyter-server<3,>=2.4.0->jupyterlab->medsam==0.0.1) (0.1.1)\n",
            "Requirement already satisfied: beautifulsoup4 in /home/asjadnabeel/anaconda3/envs/indranil/lib/python3.11/site-packages (from nbconvert>=6.4.4->jupyter-server<3,>=2.4.0->jupyterlab->medsam==0.0.1) (4.12.3)\n",
            "Requirement already satisfied: bleach!=5.0.0 in /home/asjadnabeel/anaconda3/envs/indranil/lib/python3.11/site-packages (from nbconvert>=6.4.4->jupyter-server<3,>=2.4.0->jupyterlab->medsam==0.0.1) (6.1.0)\n",
            "Requirement already satisfied: defusedxml in /home/asjadnabeel/anaconda3/envs/indranil/lib/python3.11/site-packages (from nbconvert>=6.4.4->jupyter-server<3,>=2.4.0->jupyterlab->medsam==0.0.1) (0.7.1)\n",
            "Requirement already satisfied: jupyterlab-pygments in /home/asjadnabeel/anaconda3/envs/indranil/lib/python3.11/site-packages (from nbconvert>=6.4.4->jupyter-server<3,>=2.4.0->jupyterlab->medsam==0.0.1) (0.3.0)\n",
            "Requirement already satisfied: mistune<4,>=2.0.3 in /home/asjadnabeel/anaconda3/envs/indranil/lib/python3.11/site-packages (from nbconvert>=6.4.4->jupyter-server<3,>=2.4.0->jupyterlab->medsam==0.0.1) (3.0.2)\n",
            "Requirement already satisfied: nbclient>=0.5.0 in /home/asjadnabeel/anaconda3/envs/indranil/lib/python3.11/site-packages (from nbconvert>=6.4.4->jupyter-server<3,>=2.4.0->jupyterlab->medsam==0.0.1) (0.10.0)\n",
            "Requirement already satisfied: pandocfilters>=1.4.1 in /home/asjadnabeel/anaconda3/envs/indranil/lib/python3.11/site-packages (from nbconvert>=6.4.4->jupyter-server<3,>=2.4.0->jupyterlab->medsam==0.0.1) (1.5.1)\n",
            "Requirement already satisfied: tinycss2 in /home/asjadnabeel/anaconda3/envs/indranil/lib/python3.11/site-packages (from nbconvert>=6.4.4->jupyter-server<3,>=2.4.0->jupyterlab->medsam==0.0.1) (1.3.0)\n",
            "Requirement already satisfied: fastjsonschema>=2.15 in /home/asjadnabeel/anaconda3/envs/indranil/lib/python3.11/site-packages (from nbformat>=5.3.0->jupyter-server<3,>=2.4.0->jupyterlab->medsam==0.0.1) (2.20.0)\n",
            "Requirement already satisfied: ptyprocess>=0.5 in /home/asjadnabeel/anaconda3/envs/indranil/lib/python3.11/site-packages (from pexpect>4.3->ipython<9->ipympl->medsam==0.0.1) (0.7.0)\n",
            "Requirement already satisfied: wcwidth in /home/asjadnabeel/anaconda3/envs/indranil/lib/python3.11/site-packages (from prompt-toolkit<3.1.0,>=3.0.41->ipython<9->ipympl->medsam==0.0.1) (0.2.13)\n",
            "Requirement already satisfied: charset-normalizer<4,>=2 in /home/asjadnabeel/anaconda3/envs/indranil/lib/python3.11/site-packages (from requests>=2.31->jupyterlab-server<3,>=2.27.1->jupyterlab->medsam==0.0.1) (3.3.2)\n",
            "Requirement already satisfied: urllib3<3,>=1.21.1 in /home/asjadnabeel/anaconda3/envs/indranil/lib/python3.11/site-packages (from requests>=2.31->jupyterlab-server<3,>=2.27.1->jupyterlab->medsam==0.0.1) (2.2.2)\n",
            "Requirement already satisfied: executing>=1.2.0 in /home/asjadnabeel/anaconda3/envs/indranil/lib/python3.11/site-packages (from stack-data->ipython<9->ipympl->medsam==0.0.1) (2.0.1)\n",
            "Requirement already satisfied: asttokens>=2.1.0 in /home/asjadnabeel/anaconda3/envs/indranil/lib/python3.11/site-packages (from stack-data->ipython<9->ipympl->medsam==0.0.1) (2.4.1)\n",
            "Requirement already satisfied: pure-eval in /home/asjadnabeel/anaconda3/envs/indranil/lib/python3.11/site-packages (from stack-data->ipython<9->ipympl->medsam==0.0.1) (0.2.2)\n",
            "Requirement already satisfied: mpmath<1.4.0,>=1.1.0 in /home/asjadnabeel/anaconda3/envs/indranil/lib/python3.11/site-packages (from sympy->torch>=1.9->monai->medsam==0.0.1) (1.3.0)\n",
            "Requirement already satisfied: webencodings in /home/asjadnabeel/anaconda3/envs/indranil/lib/python3.11/site-packages (from bleach!=5.0.0->nbconvert>=6.4.4->jupyter-server<3,>=2.4.0->jupyterlab->medsam==0.0.1) (0.5.1)\n",
            "Requirement already satisfied: fqdn in /home/asjadnabeel/anaconda3/envs/indranil/lib/python3.11/site-packages (from jsonschema[format-nongpl]>=4.18.0->jupyter-events>=0.9.0->jupyter-server<3,>=2.4.0->jupyterlab->medsam==0.0.1) (1.5.1)\n",
            "Requirement already satisfied: isoduration in /home/asjadnabeel/anaconda3/envs/indranil/lib/python3.11/site-packages (from jsonschema[format-nongpl]>=4.18.0->jupyter-events>=0.9.0->jupyter-server<3,>=2.4.0->jupyterlab->medsam==0.0.1) (20.11.0)\n",
            "Requirement already satisfied: jsonpointer>1.13 in /home/asjadnabeel/anaconda3/envs/indranil/lib/python3.11/site-packages (from jsonschema[format-nongpl]>=4.18.0->jupyter-events>=0.9.0->jupyter-server<3,>=2.4.0->jupyterlab->medsam==0.0.1) (3.0.0)\n",
            "Requirement already satisfied: uri-template in /home/asjadnabeel/anaconda3/envs/indranil/lib/python3.11/site-packages (from jsonschema[format-nongpl]>=4.18.0->jupyter-events>=0.9.0->jupyter-server<3,>=2.4.0->jupyterlab->medsam==0.0.1) (1.3.0)\n",
            "Requirement already satisfied: webcolors>=1.11 in /home/asjadnabeel/anaconda3/envs/indranil/lib/python3.11/site-packages (from jsonschema[format-nongpl]>=4.18.0->jupyter-events>=0.9.0->jupyter-server<3,>=2.4.0->jupyterlab->medsam==0.0.1) (24.6.0)\n",
            "Requirement already satisfied: cffi>=1.0.1 in /home/asjadnabeel/anaconda3/envs/indranil/lib/python3.11/site-packages (from argon2-cffi-bindings->argon2-cffi>=21.1->jupyter-server<3,>=2.4.0->jupyterlab->medsam==0.0.1) (1.16.0)\n",
            "Requirement already satisfied: soupsieve>1.2 in /home/asjadnabeel/anaconda3/envs/indranil/lib/python3.11/site-packages (from beautifulsoup4->nbconvert>=6.4.4->jupyter-server<3,>=2.4.0->jupyterlab->medsam==0.0.1) (2.5)\n",
            "Requirement already satisfied: pycparser in /home/asjadnabeel/anaconda3/envs/indranil/lib/python3.11/site-packages (from cffi>=1.0.1->argon2-cffi-bindings->argon2-cffi>=21.1->jupyter-server<3,>=2.4.0->jupyterlab->medsam==0.0.1) (2.22)\n",
            "Requirement already satisfied: arrow>=0.15.0 in /home/asjadnabeel/anaconda3/envs/indranil/lib/python3.11/site-packages (from isoduration->jsonschema[format-nongpl]>=4.18.0->jupyter-events>=0.9.0->jupyter-server<3,>=2.4.0->jupyterlab->medsam==0.0.1) (1.3.0)\n",
            "Requirement already satisfied: types-python-dateutil>=2.8.10 in /home/asjadnabeel/anaconda3/envs/indranil/lib/python3.11/site-packages (from arrow>=0.15.0->isoduration->jsonschema[format-nongpl]>=4.18.0->jupyter-events>=0.9.0->jupyter-server<3,>=2.4.0->jupyterlab->medsam==0.0.1) (2.9.0.20240316)\n",
            "Requirement already satisfied: datasets in /home/asjadnabeel/anaconda3/envs/indranil/lib/python3.11/site-packages (3.0.0)\n",
            "Requirement already satisfied: filelock in /home/asjadnabeel/anaconda3/envs/indranil/lib/python3.11/site-packages (from datasets) (3.15.3)\n",
            "Requirement already satisfied: numpy>=1.17 in /home/asjadnabeel/anaconda3/envs/indranil/lib/python3.11/site-packages (from datasets) (1.26.4)\n",
            "Requirement already satisfied: pyarrow>=15.0.0 in /home/asjadnabeel/anaconda3/envs/indranil/lib/python3.11/site-packages (from datasets) (17.0.0)\n",
            "Requirement already satisfied: dill<0.3.9,>=0.3.0 in /home/asjadnabeel/anaconda3/envs/indranil/lib/python3.11/site-packages (from datasets) (0.3.8)\n",
            "Requirement already satisfied: pandas in /home/asjadnabeel/anaconda3/envs/indranil/lib/python3.11/site-packages (from datasets) (2.2.2)\n",
            "Requirement already satisfied: requests>=2.32.2 in /home/asjadnabeel/anaconda3/envs/indranil/lib/python3.11/site-packages (from datasets) (2.32.3)\n",
            "Requirement already satisfied: tqdm>=4.66.3 in /home/asjadnabeel/anaconda3/envs/indranil/lib/python3.11/site-packages (from datasets) (4.66.4)\n",
            "Requirement already satisfied: xxhash in /home/asjadnabeel/anaconda3/envs/indranil/lib/python3.11/site-packages (from datasets) (3.5.0)\n",
            "Requirement already satisfied: multiprocess in /home/asjadnabeel/anaconda3/envs/indranil/lib/python3.11/site-packages (from datasets) (0.70.16)\n",
            "Requirement already satisfied: fsspec<=2024.6.1,>=2023.1.0 in /home/asjadnabeel/anaconda3/envs/indranil/lib/python3.11/site-packages (from fsspec[http]<=2024.6.1,>=2023.1.0->datasets) (2024.6.0)\n",
            "Requirement already satisfied: aiohttp in /home/asjadnabeel/anaconda3/envs/indranil/lib/python3.11/site-packages (from datasets) (3.10.5)\n",
            "Requirement already satisfied: huggingface-hub>=0.22.0 in /home/asjadnabeel/anaconda3/envs/indranil/lib/python3.11/site-packages (from datasets) (0.23.4)\n",
            "Requirement already satisfied: packaging in /home/asjadnabeel/anaconda3/envs/indranil/lib/python3.11/site-packages (from datasets) (24.1)\n",
            "Requirement already satisfied: pyyaml>=5.1 in /home/asjadnabeel/anaconda3/envs/indranil/lib/python3.11/site-packages (from datasets) (6.0.1)\n",
            "Requirement already satisfied: aiohappyeyeballs>=2.3.0 in /home/asjadnabeel/anaconda3/envs/indranil/lib/python3.11/site-packages (from aiohttp->datasets) (2.4.0)\n",
            "Requirement already satisfied: aiosignal>=1.1.2 in /home/asjadnabeel/anaconda3/envs/indranil/lib/python3.11/site-packages (from aiohttp->datasets) (1.3.1)\n",
            "Requirement already satisfied: attrs>=17.3.0 in /home/asjadnabeel/anaconda3/envs/indranil/lib/python3.11/site-packages (from aiohttp->datasets) (23.2.0)\n",
            "Requirement already satisfied: frozenlist>=1.1.1 in /home/asjadnabeel/anaconda3/envs/indranil/lib/python3.11/site-packages (from aiohttp->datasets) (1.4.1)\n",
            "Requirement already satisfied: multidict<7.0,>=4.5 in /home/asjadnabeel/anaconda3/envs/indranil/lib/python3.11/site-packages (from aiohttp->datasets) (6.1.0)\n",
            "Requirement already satisfied: yarl<2.0,>=1.0 in /home/asjadnabeel/anaconda3/envs/indranil/lib/python3.11/site-packages (from aiohttp->datasets) (1.11.1)\n",
            "Requirement already satisfied: typing-extensions>=3.7.4.3 in /home/asjadnabeel/anaconda3/envs/indranil/lib/python3.11/site-packages (from huggingface-hub>=0.22.0->datasets) (4.12.2)\n",
            "Requirement already satisfied: charset-normalizer<4,>=2 in /home/asjadnabeel/anaconda3/envs/indranil/lib/python3.11/site-packages (from requests>=2.32.2->datasets) (3.3.2)\n",
            "Requirement already satisfied: idna<4,>=2.5 in /home/asjadnabeel/anaconda3/envs/indranil/lib/python3.11/site-packages (from requests>=2.32.2->datasets) (3.7)\n",
            "Requirement already satisfied: urllib3<3,>=1.21.1 in /home/asjadnabeel/anaconda3/envs/indranil/lib/python3.11/site-packages (from requests>=2.32.2->datasets) (2.2.2)\n",
            "Requirement already satisfied: certifi>=2017.4.17 in /home/asjadnabeel/anaconda3/envs/indranil/lib/python3.11/site-packages (from requests>=2.32.2->datasets) (2024.6.2)\n",
            "Requirement already satisfied: python-dateutil>=2.8.2 in /home/asjadnabeel/anaconda3/envs/indranil/lib/python3.11/site-packages (from pandas->datasets) (2.9.0)\n",
            "Requirement already satisfied: pytz>=2020.1 in /home/asjadnabeel/anaconda3/envs/indranil/lib/python3.11/site-packages (from pandas->datasets) (2024.2)\n",
            "Requirement already satisfied: tzdata>=2022.7 in /home/asjadnabeel/anaconda3/envs/indranil/lib/python3.11/site-packages (from pandas->datasets) (2024.1)\n",
            "Requirement already satisfied: six>=1.5 in /home/asjadnabeel/anaconda3/envs/indranil/lib/python3.11/site-packages (from python-dateutil>=2.8.2->pandas->datasets) (1.16.0)\n",
            "Requirement already satisfied: patchify in /home/asjadnabeel/anaconda3/envs/indranil/lib/python3.11/site-packages (0.2.3)\n",
            "Requirement already satisfied: numpy<2,>=1 in /home/asjadnabeel/anaconda3/envs/indranil/lib/python3.11/site-packages (from patchify) (1.26.4)\n"
          ]
        }
      ],
      "source": [
        "#SAM\n",
        "#!pip install git+https://github.com/facebookresearch/segment-anything.git\n",
        "#MEDSAM\n",
        "!pip install git+https://github.com/bowang-lab/MedSAM.git\n",
        "#Transformers\n",
        "!pip install -q git+https://github.com/huggingface/transformers.git\n",
        "#Datasets to prepare data and monai if you want to use special loss functions\n",
        "!pip install datasets\n",
        "!pip install -q monai\n",
        "#Patchify to divide large images into smaller patches for training. (Not necessary for smaller images)\n",
        "!pip install patchify"
      ]
    },
    {
      "cell_type": "code",
      "execution_count": 1,
      "metadata": {
        "id": "aTXUX7xyCEGT"
      },
      "outputs": [],
      "source": [
        "import numpy as np\n",
        "import matplotlib.pyplot as plt\n",
        "import tifffile\n",
        "from patchify import patchify  #Only to handle large images\n",
        "import random\n",
        "import nibabel as nib\n",
        "from glob import glob\n",
        "#import cv2\n",
        "from torch.utils.data import Dataset\n",
        "from datasets import Dataset\n",
        "from PIL import Image"
      ]
    },
    {
      "cell_type": "markdown",
      "metadata": {},
      "source": [
        "## Data Loading and Data Generation"
      ]
    },
    {
      "cell_type": "markdown",
      "metadata": {
        "id": "SH5wSwpVf51x"
      },
      "source": [
        "##### Load data into numpy arrays. Here we are importing 3D CT images and corresponding masks in .nii.gz format. We use glob to import multiple images from a directory. The goal is to end up with a numpy array for images and an array for masks."
      ]
    },
    {
      "cell_type": "code",
      "execution_count": 2,
      "metadata": {},
      "outputs": [],
      "source": [
        "def load_nii_file(path):\n",
        "    nii = nib.load(path)\n",
        "    data = nii.get_fdata()\n",
        "    return data\n",
        "\n",
        "def load_data_3d(images_path, masks_path):\n",
        "    images = []\n",
        "    masks = []\n",
        "\n",
        "    image_files = sorted(glob(images_path))\n",
        "    mask_files = sorted(glob(masks_path))\n",
        "\n",
        "    for img_path, mask_path in zip(image_files, mask_files):\n",
        "        img_data = load_nii_file(img_path)\n",
        "        mask_data = load_nii_file(mask_path)\n",
        "\n",
        "        for i in range(img_data.shape[2]):  # Iterate over the slices\n",
        "            img_slice = img_data[:, :, i]\n",
        "            mask_slice = mask_data[:, :, i]\n",
        "            \n",
        "            images.append(img_slice)\n",
        "            masks.append(mask_slice)\n",
        "        \n",
        "    return np.array(images), np.array(masks)"
      ]
    },
    {
      "cell_type": "code",
      "execution_count": 3,
      "metadata": {},
      "outputs": [],
      "source": [
        "# Define paths to your images and masks directories\n",
        "images_path = '../Colon/imagesTr/*.nii.gz'\n",
        "masks_path = '../Colon/labelsTr/*.nii.gz'\n",
        "\n",
        "# Load the data\n",
        "large_images, large_masks = load_data_3d(images_path, masks_path)"
      ]
    },
    {
      "cell_type": "code",
      "execution_count": 4,
      "metadata": {
        "colab": {
          "base_uri": "https://localhost:8080/"
        },
        "id": "dwN2LFUX59TM",
        "outputId": "cdd962cc-69d8-49e6-e20f-2cc72741ce5f"
      },
      "outputs": [
        {
          "name": "stdout",
          "output_type": "stream",
          "text": [
            "(11855, 512, 512)\n",
            "(11855, 512, 512)\n"
          ]
        }
      ],
      "source": [
        "print(large_images.shape)\n",
        "print(large_masks.shape)"
      ]
    },
    {
      "cell_type": "markdown",
      "metadata": {},
      "source": [
        "All images and masks are loaded and converted to numpy array."
      ]
    },
    {
      "cell_type": "markdown",
      "metadata": {},
      "source": [
        "##### Now, let us divide these large images into smaller patches for training. We can use patchify or write custom code."
      ]
    },
    {
      "cell_type": "code",
      "execution_count": 5,
      "metadata": {},
      "outputs": [],
      "source": [
        "#Desired patch size for smaller images and step size.\n",
        "patch_size = 256\n",
        "step = 256"
      ]
    },
    {
      "cell_type": "code",
      "execution_count": 6,
      "metadata": {},
      "outputs": [],
      "source": [
        "all_img_patches = []\n",
        "for img in range(large_images.shape[0]):\n",
        "    large_image = large_images[img]\n",
        "    patches_img = patchify(large_image, (patch_size, patch_size), step=step)  #Step=256 for 256 patches means no overlap\n",
        "\n",
        "    for i in range(patches_img.shape[0]):\n",
        "        for j in range(patches_img.shape[1]):\n",
        "            single_patch_img = patches_img[i,j,:,:]\n",
        "            single_patch_img = (single_patch_img).astype(np.uint8)\n",
        "            all_img_patches.append(single_patch_img)\n",
        "\n",
        "images = np.array(all_img_patches)\n",
        "\n",
        "#Let us do the same for masks\n",
        "all_mask_patches = []\n",
        "for img in range(large_masks.shape[0]):\n",
        "    large_mask = large_masks[img]\n",
        "    patches_mask = patchify(large_mask, (patch_size, patch_size), step=step)  #Step=256 for 256 patches means no overlap\n",
        "\n",
        "    for i in range(patches_mask.shape[0]):\n",
        "        for j in range(patches_mask.shape[1]):\n",
        "            single_patch_mask = patches_mask[i,j,:,:]\n",
        "            if single_patch_mask.max() <= 1:\n",
        "                single_patch_mask = (single_patch_mask * 255) # Multiply by 255 if the mask is in [0, 1]\n",
        "            single_patch_mask = (single_patch_mask).astype(np.uint8)\n",
        "            all_mask_patches.append(single_patch_mask)\n",
        "\n",
        "masks = np.array(all_mask_patches)"
      ]
    },
    {
      "cell_type": "code",
      "execution_count": 7,
      "metadata": {},
      "outputs": [
        {
          "name": "stdout",
          "output_type": "stream",
          "text": [
            "(47420, 256, 256)\n",
            "(47420, 256, 256)\n"
          ]
        }
      ],
      "source": [
        "print(images.shape)\n",
        "print(masks.shape)"
      ]
    },
    {
      "cell_type": "markdown",
      "metadata": {
        "id": "09UD2FcbTubl"
      },
      "source": [
        "##### Now, let us delete empty masks as they may cause issues later on during training. If a batch contains empty masks then the loss function will throw an error as it may not know how to handle empty tensors."
      ]
    },
    {
      "cell_type": "code",
      "execution_count": 8,
      "metadata": {
        "colab": {
          "base_uri": "https://localhost:8080/"
        },
        "id": "rtswt5WRSEJz",
        "outputId": "fa0dea5a-5510-4bda-ac76-a81fb6f4f270"
      },
      "outputs": [
        {
          "name": "stdout",
          "output_type": "stream",
          "text": [
            "Image shape: (1707, 256, 256)\n",
            "Mask shape: (1707, 256, 256)\n"
          ]
        }
      ],
      "source": [
        "# Create a list to store the indices of non-empty masks\n",
        "valid_indices = [i for i, mask in enumerate(masks) if mask.any()]\n",
        "# Filter the image and mask arrays to keep only the non-empty pairs\n",
        "filtered_images = images[valid_indices]\n",
        "filtered_masks = masks[valid_indices]\n",
        "print(\"Image shape:\", filtered_images.shape)  # e.g., (num_frames, height, width, num_channels)\n",
        "print(\"Mask shape:\", filtered_masks.shape)"
      ]
    },
    {
      "cell_type": "markdown",
      "metadata": {
        "id": "Pkbouhweg9cT"
      },
      "source": [
        "##### Let us create a 'dataset' that serves us input images and masks for the rest of our journey."
      ]
    },
    {
      "cell_type": "code",
      "execution_count": 9,
      "metadata": {},
      "outputs": [],
      "source": [
        "# Convert to RGB and ensure the data type is uint8\n",
        "def convert_img(image):\n",
        "    # Ensure the data type is uint8 and the range is [0, 255]\n",
        "    if image.ndim == 2:  # If the image is grayscale, convert to RGB\n",
        "        # Convert BGR and RGB with Python – OpenCV\n",
        "        #image = cv2.cvtColor(image, cv2.COLOR_GRAY2RGB)\n",
        "        # Otherwise stack one extra channel (Both will give same result)\n",
        "        image = np.stack((image,) * 3, axis=-1)\n",
        "    return image"
      ]
    },
    {
      "cell_type": "code",
      "execution_count": 10,
      "metadata": {
        "id": "5hAoOYN2_s7l"
      },
      "outputs": [],
      "source": [
        "# Convert the NumPy arrays to Pillow images and store them in a dictionary\n",
        "dataset_dict = {\n",
        "    \"image\": [Image.fromarray(convert_img(img)) for img in filtered_images],\n",
        "    \"label\": [Image.fromarray(mask) for mask in filtered_masks],\n",
        "}\n",
        "\n",
        "# Create the dataset using the datasets.Dataset class\n",
        "dataset = Dataset.from_dict(dataset_dict)"
      ]
    },
    {
      "cell_type": "code",
      "execution_count": 11,
      "metadata": {
        "colab": {
          "base_uri": "https://localhost:8080/"
        },
        "id": "fISBbWMRBfV3",
        "outputId": "efd0898c-36e4-4e5a-e6ca-66500d4f6610"
      },
      "outputs": [
        {
          "data": {
            "text/plain": [
              "Dataset({\n",
              "    features: ['image', 'label'],\n",
              "    num_rows: 1707\n",
              "})"
            ]
          },
          "execution_count": 11,
          "metadata": {},
          "output_type": "execute_result"
        }
      ],
      "source": [
        "dataset"
      ]
    },
    {
      "cell_type": "markdown",
      "metadata": {
        "id": "NSPSMTIAhVWN"
      },
      "source": [
        "##### Let us make sure out images and masks (labels) are loading appropriately"
      ]
    },
    {
      "cell_type": "code",
      "execution_count": 13,
      "metadata": {
        "colab": {
          "base_uri": "https://localhost:8080/",
          "height": 411
        },
        "id": "CAiRRfJhGmVs",
        "outputId": "bdd33e42-bb51-4f59-cbc4-e3dafe59953a"
      },
      "outputs": [
        {
          "data": {
            "image/png": "[encoded data removed]",
            "text/plain": [
              "<Figure size 1000x500 with 2 Axes>"
            ]
          },
          "metadata": {},
          "output_type": "display_data"
        }
      ],
      "source": [
        "img_num = random.randint(0, filtered_images.shape[0]-1)\n",
        "example_image = dataset[img_num][\"image\"]\n",
        "example_mask = dataset[img_num][\"label\"]\n",
        "\n",
        "fig, axes = plt.subplots(1, 2, figsize=(10, 5))\n",
        "\n",
        "# Plot the first image on the left\n",
        "axes[0].imshow(np.array(example_image), cmap='gray')  # Assuming the first image is grayscale\n",
        "axes[0].set_title(\"Image\")\n",
        "\n",
        "# Plot the second image on the right\n",
        "axes[1].imshow(example_mask, cmap='gray')  # Assuming the second image is grayscale\n",
        "axes[1].set_title(\"Mask\")\n",
        "\n",
        "# Hide axis ticks and labels\n",
        "for ax in axes:\n",
        "    ax.set_xticks([])\n",
        "    ax.set_yticks([])\n",
        "    ax.set_xticklabels([])\n",
        "    ax.set_yticklabels([])\n",
        "\n",
        "# Display the images side by side\n",
        "plt.show()"
      ]
    },
    {
      "cell_type": "markdown",
      "metadata": {},
      "source": [
        "## Fine-tuning Process"
      ]
    },
    {
      "cell_type": "code",
      "execution_count": 14,
      "metadata": {},
      "outputs": [],
      "source": [
        "from transformers import SamProcessor\n",
        "from torch.utils.data import DataLoader\n",
        "from transformers import SamModel\n",
        "from torch.optim import Adam\n",
        "import monai\n",
        "from tqdm import tqdm\n",
        "from statistics import mean\n",
        "import torch\n",
        "from torch.nn.functional import threshold, normalize"
      ]
    },
    {
      "cell_type": "markdown",
      "metadata": {
        "id": "CffHur2PhiOJ"
      },
      "source": [
        "Function to get bounding boxes from masks."
      ]
    },
    {
      "cell_type": "code",
      "execution_count": 15,
      "metadata": {
        "id": "LYmrZ9hWCpKV"
      },
      "outputs": [],
      "source": [
        "#Get bounding boxes from mask.\n",
        "def get_bounding_box(ground_truth_map):\n",
        "  # get bounding box from mask\n",
        "  y_indices, x_indices = np.where(ground_truth_map > 0)\n",
        "  x_min, x_max = np.min(x_indices), np.max(x_indices)\n",
        "  y_min, y_max = np.min(y_indices), np.max(y_indices)\n",
        "  # add perturbation to bounding box coordinates\n",
        "  H, W = ground_truth_map.shape\n",
        "  x_min = max(0, x_min - np.random.randint(0, 20))\n",
        "  x_max = min(W, x_max + np.random.randint(0, 20))\n",
        "  y_min = max(0, y_min - np.random.randint(0, 20))\n",
        "  y_max = min(H, y_max + np.random.randint(0, 20))\n",
        "  bbox = [x_min, y_min, x_max, y_max]\n",
        "\n",
        "  return bbox"
      ]
    },
    {
      "cell_type": "code",
      "execution_count": 16,
      "metadata": {
        "id": "dQVNaYYbDKf6"
      },
      "outputs": [],
      "source": [
        "from torch.utils.data import Dataset\n",
        "\n",
        "class SAMDataset(Dataset):\n",
        "  \"\"\"\n",
        "  This class is used to create a dataset that serves input images and masks.\n",
        "  It takes a dataset and a processor as input and overrides the __len__ and __getitem__ methods of the Dataset class.\n",
        "  \"\"\"\n",
        "  def __init__(self, dataset, processor):\n",
        "    self.dataset = dataset\n",
        "    self.processor = processor\n",
        "\n",
        "  def __len__(self):\n",
        "    return len(self.dataset)\n",
        "\n",
        "  def __getitem__(self, idx):\n",
        "    item = self.dataset[idx]\n",
        "    image = item[\"image\"]\n",
        "    ground_truth_mask = np.array(item[\"label\"])\n",
        "\n",
        "    # get bounding box prompt\n",
        "    prompt = get_bounding_box(ground_truth_mask)\n",
        "\n",
        "    # prepare image and prompt for the model\n",
        "    inputs = self.processor(image, input_boxes=[[prompt]], return_tensors=\"pt\")\n",
        "\n",
        "    # remove batch dimension which the processor adds by default\n",
        "    inputs = {k:v.squeeze(0) for k,v in inputs.items()}\n",
        "\n",
        "    # add ground truth segmentation\n",
        "    inputs[\"ground_truth_mask\"] = ground_truth_mask\n",
        "\n",
        "    return inputs"
      ]
    },
    {
      "cell_type": "code",
      "execution_count": 17,
      "metadata": {
        "colab": {
          "base_uri": "https://localhost:8080/",
          "height": 49,
          "referenced_widgets": [
            "959191b121bc45e38b94e88c30fdf555",
            "caa8bf49992d49fd9f5434541d2c9aec",
            "5d54405619fc4f86b8863f9c2b23ba0f",
            "8ecd7932d6fa42e0b62608279787f49e",
            "be402d4dad8347eb93f576164522b81c",
            "c984ce7758b94e2eb5f8d68af75719b2",
            "9c7cc659690d41ffb171b59c1b08f684",
            "ee41d7dbf5cc47318e4461adab2c3aac",
            "db8e98e0e8264b7aa27bcdface298a17",
            "6ade485d62144949a2825699bc68ceb4",
            "d41546154b4049d7806224f4189f4d7c"
          ]
        },
        "id": "5IVksPItDOYg",
        "outputId": "f6014e36-0dc7-4983-d28e-d0fdc09ad245"
      },
      "outputs": [],
      "source": [
        "# Initialize the processor\n",
        "#processor = SamProcessor.from_pretrained(\"facebook/sam-vit-base\") # Loading SAM\n",
        "processor = SamProcessor.from_pretrained(\"wanglab/medsam-vit-base\") # Loading MedSAM"
      ]
    },
    {
      "cell_type": "code",
      "execution_count": 18,
      "metadata": {
        "id": "aU59Asl5DQCF"
      },
      "outputs": [],
      "source": [
        "# Create an instance of the SAMDataset\n",
        "train_dataset = SAMDataset(dataset=dataset, processor=processor)"
      ]
    },
    {
      "cell_type": "code",
      "execution_count": 19,
      "metadata": {
        "colab": {
          "base_uri": "https://localhost:8080/"
        },
        "id": "qMUQO3fCDTyV",
        "outputId": "4a73313a-a51b-4ab0-f824-e5d960c8aff1"
      },
      "outputs": [
        {
          "name": "stdout",
          "output_type": "stream",
          "text": [
            "pixel_values torch.Size([3, 1024, 1024])\n",
            "original_sizes torch.Size([2])\n",
            "reshaped_input_sizes torch.Size([2])\n",
            "input_boxes torch.Size([1, 4])\n",
            "ground_truth_mask (256, 256)\n"
          ]
        }
      ],
      "source": [
        "example = train_dataset[0]\n",
        "for k,v in example.items():\n",
        "  print(k,v.shape)\n"
      ]
    },
    {
      "cell_type": "code",
      "execution_count": 20,
      "metadata": {
        "id": "G694dS0RDWdl"
      },
      "outputs": [],
      "source": [
        "# Create a DataLoader instance for the training dataset\n",
        "train_dataloader = DataLoader(train_dataset, batch_size=2, shuffle=True, drop_last=False)"
      ]
    },
    {
      "cell_type": "code",
      "execution_count": 21,
      "metadata": {
        "colab": {
          "base_uri": "https://localhost:8080/"
        },
        "id": "oAHAY4LxDYCt",
        "outputId": "67caba6c-e8ea-4c35-a8dd-910e6e9b5edb"
      },
      "outputs": [
        {
          "name": "stdout",
          "output_type": "stream",
          "text": [
            "pixel_values torch.Size([2, 3, 1024, 1024])\n",
            "original_sizes torch.Size([2, 2])\n",
            "reshaped_input_sizes torch.Size([2, 2])\n",
            "input_boxes torch.Size([2, 1, 4])\n",
            "ground_truth_mask torch.Size([2, 256, 256])\n"
          ]
        }
      ],
      "source": [
        "batch = next(iter(train_dataloader))\n",
        "for k,v in batch.items():\n",
        "  print(k,v.shape)"
      ]
    },
    {
      "cell_type": "code",
      "execution_count": 22,
      "metadata": {
        "colab": {
          "base_uri": "https://localhost:8080/"
        },
        "id": "l0G55sGADaJ3",
        "outputId": "2c90fbbc-1c49-43f5-8cdf-597ba1def065"
      },
      "outputs": [
        {
          "data": {
            "text/plain": [
              "torch.Size([2, 256, 256])"
            ]
          },
          "execution_count": 22,
          "metadata": {},
          "output_type": "execute_result"
        }
      ],
      "source": [
        "batch[\"ground_truth_mask\"].shape"
      ]
    },
    {
      "cell_type": "code",
      "execution_count": 23,
      "metadata": {
        "colab": {
          "base_uri": "https://localhost:8080/",
          "height": 81,
          "referenced_widgets": [
            "93e482eaec584f37a2543dc14a9f8a92",
            "ff6ec0b6e4fa47108d4624ae771dea93",
            "1139ff3d65544177a81fa2b141ae791d",
            "139f11edfb3047ff80625779d41f78bb",
            "ea6a7d5f61c44b7e8f5c07e9a5740c87",
            "0f3107ddc2c34ce597d966c1464b2e2d",
            "15dff2b958f04d828861978c2592a74a",
            "eb8df011eb6146bea7b0eb30acb61270",
            "3d7f35d61fa0448aa81a2ffde37961be",
            "5f55abbba905408e8dcb85e9b36785ef",
            "feb550b167e2492fa35fa4788e603c6b",
            "4d368d534a0349c2a0a28d9ca5bc9057",
            "db4ba3b7497c4ac1a93119beda49fe79",
            "8d72da00f0154e9f93bf75178ee37b1f",
            "880f9ead62064074bbfe2a9af583868b",
            "d9cd7849d1ff4609bc9d43c6096d3474",
            "fda70db0b82f4ef2ab30e2ecb6fb9616",
            "9c70d1f1253047ca8355946eca6f9982",
            "094140fa4b0a42d59bc144177cbecfba",
            "261d0da2d0144d04a30a8cf35f142199",
            "7663f3bafcbf4b66b782c0fa51d8f7c4",
            "6d12aceba50743a49c4e4d7c62e4fa3e"
          ]
        },
        "id": "7fUTkHq3DcVV",
        "outputId": "3c84e0d0-27e7-4d24-91a5-1b2829499302"
      },
      "outputs": [],
      "source": [
        "# Load the model\n",
        "#model = SamModel.from_pretrained(\"facebook/sam-vit-base\") # Loading SAM\n",
        "model = SamModel.from_pretrained(\"wanglab/medsam-vit-base\") # Loading MedSAM\n",
        "\n",
        "# make sure we only compute gradients for mask decoder\n",
        "for name, param in model.named_parameters():\n",
        "  if name.startswith(\"vision_encoder\") or name.startswith(\"prompt_encoder\"):\n",
        "    param.requires_grad_(False)"
      ]
    },
    {
      "cell_type": "code",
      "execution_count": 24,
      "metadata": {
        "id": "NUQFybjODebi"
      },
      "outputs": [],
      "source": [
        "# Initialize the optimizer and the loss function\n",
        "optimizer = Adam(model.mask_decoder.parameters(), lr=1e-5, weight_decay=0)\n",
        "#Try DiceFocalLoss, FocalLoss, DiceCELoss\n",
        "seg_loss = monai.losses.DiceCELoss(sigmoid=True, squared_pred=True, reduction='mean')"
      ]
    },
    {
      "cell_type": "code",
      "execution_count": null,
      "metadata": {
        "id": "XbD2PQlPDgFF"
      },
      "outputs": [],
      "source": [
        "#Training loop\n",
        "num_epochs = 100\n",
        "\n",
        "device = \"cuda\" if torch.cuda.is_available() else \"cpu\"\n",
        "model.to(device)\n",
        "\n",
        "model.train()\n",
        "for epoch in range(num_epochs):\n",
        "    epoch_losses = []\n",
        "    for batch in tqdm(train_dataloader):\n",
        "      # forward pass\n",
        "      outputs = model(pixel_values=batch[\"pixel_values\"].to(device),\n",
        "                      input_boxes=batch[\"input_boxes\"].to(device),\n",
        "                      multimask_output=False)\n",
        "\n",
        "      # compute loss\n",
        "      predicted_masks = outputs.pred_masks.squeeze(1)\n",
        "      ground_truth_masks = batch[\"ground_truth_mask\"].float().to(device)\n",
        "      loss = seg_loss(predicted_masks, ground_truth_masks.unsqueeze(1))\n",
        "\n",
        "      # backward pass (compute gradients of parameters w.r.t. loss)\n",
        "      optimizer.zero_grad()\n",
        "      loss.backward()\n",
        "\n",
        "      # optimize\n",
        "      optimizer.step()\n",
        "      epoch_losses.append(loss.item())\n",
        "\n",
        "    print(f'EPOCH: {epoch}')\n",
        "    print(f'Mean loss: {mean(epoch_losses)}')"
      ]
    },
    {
      "cell_type": "markdown",
      "metadata": {},
      "source": [
        "##### Save the model's state dictionary to a file"
      ]
    },
    {
      "cell_type": "code",
      "execution_count": 29,
      "metadata": {
        "id": "7zm89g_tbcdN"
      },
      "outputs": [],
      "source": [
        "torch.save(model.state_dict(), \"sam_ft_model_100eps/MEDSAM/colcan_model_checkpoint.pth\")"
      ]
    }
  ],
  "metadata": {
    "accelerator": "GPU",
    "colab": {
      "authorship_tag": "ABX9TyN9OzjHxQWts2l1sdeOykUE",
      "gpuType": "T4",
      "include_colab_link": true,
      "mount_file_id": "1RNJ_BNqGtTHbakzHreEd4FlSatotXurW",
      "provenance": []
    },
    "kernelspec": {
      "display_name": "Python 3",
      "name": "python3"
    },
    "language_info": {
      "codemirror_mode": {
        "name": "ipython",
        "version": 3
      },
      "file_extension": ".py",
      "mimetype": "text/x-python",
      "name": "python",
      "nbconvert_exporter": "python",
      "pygments_lexer": "ipython3",
      "version": "3.11.9"
    },
    "widgets": {
      "application/vnd.jupyter.widget-state+json": {
        "094140fa4b0a42d59bc144177cbecfba": {
          "model_module": "@jupyter-widgets/base",
          "model_module_version": "1.2.0",
          "model_name": "LayoutModel",
          "state": {
            "_model_module": "@jupyter-widgets/base",
            "_model_module_version": "1.2.0",
            "_model_name": "LayoutModel",
            "_view_count": null,
            "_view_module": "@jupyter-widgets/base",
            "_view_module_version": "1.2.0",
            "_view_name": "LayoutView",
            "align_content": null,
            "align_items": null,
            "align_self": null,
            "border": null,
            "bottom": null,
            "display": null,
            "flex": null,
            "flex_flow": null,
            "grid_area": null,
            "grid_auto_columns": null,
            "grid_auto_flow": null,
            "grid_auto_rows": null,
            "grid_column": null,
            "grid_gap": null,
            "grid_row": null,
            "grid_template_areas": null,
            "grid_template_columns": null,
            "grid_template_rows": null,
            "height": null,
            "justify_content": null,
            "justify_items": null,
            "left": null,
            "margin": null,
            "max_height": null,
            "max_width": null,
            "min_height": null,
            "min_width": null,
            "object_fit": null,
            "object_position": null,
            "order": null,
            "overflow": null,
            "overflow_x": null,
            "overflow_y": null,
            "padding": null,
            "right": null,
            "top": null,
            "visibility": null,
            "width": null
          }
        },
        "0f3107ddc2c34ce597d966c1464b2e2d": {
          "model_module": "@jupyter-widgets/base",
          "model_module_version": "1.2.0",
          "model_name": "LayoutModel",
          "state": {
            "_model_module": "@jupyter-widgets/base",
            "_model_module_version": "1.2.0",
            "_model_name": "LayoutModel",
            "_view_count": null,
            "_view_module": "@jupyter-widgets/base",
            "_view_module_version": "1.2.0",
            "_view_name": "LayoutView",
            "align_content": null,
            "align_items": null,
            "align_self": null,
            "border": null,
            "bottom": null,
            "display": null,
            "flex": null,
            "flex_flow": null,
            "grid_area": null,
            "grid_auto_columns": null,
            "grid_auto_flow": null,
            "grid_auto_rows": null,
            "grid_column": null,
            "grid_gap": null,
            "grid_row": null,
            "grid_template_areas": null,
            "grid_template_columns": null,
            "grid_template_rows": null,
            "height": null,
            "justify_content": null,
            "justify_items": null,
            "left": null,
            "margin": null,
            "max_height": null,
            "max_width": null,
            "min_height": null,
            "min_width": null,
            "object_fit": null,
            "object_position": null,
            "order": null,
            "overflow": null,
            "overflow_x": null,
            "overflow_y": null,
            "padding": null,
            "right": null,
            "top": null,
            "visibility": null,
            "width": null
          }
        },
        "1139ff3d65544177a81fa2b141ae791d": {
          "model_module": "@jupyter-widgets/controls",
          "model_module_version": "1.5.0",
          "model_name": "FloatProgressModel",
          "state": {
            "_dom_classes": [],
            "_model_module": "@jupyter-widgets/controls",
            "_model_module_version": "1.5.0",
            "_model_name": "FloatProgressModel",
            "_view_count": null,
            "_view_module": "@jupyter-widgets/controls",
            "_view_module_version": "1.5.0",
            "_view_name": "ProgressView",
            "bar_style": "success",
            "description": "",
            "description_tooltip": null,
            "layout": "IPY_MODEL_eb8df011eb6146bea7b0eb30acb61270",
            "max": 6566,
            "min": 0,
            "orientation": "horizontal",
            "style": "IPY_MODEL_3d7f35d61fa0448aa81a2ffde37961be",
            "value": 6566
          }
        },
        "139f11edfb3047ff80625779d41f78bb": {
          "model_module": "@jupyter-widgets/controls",
          "model_module_version": "1.5.0",
          "model_name": "HTMLModel",
          "state": {
            "_dom_classes": [],
            "_model_module": "@jupyter-widgets/controls",
            "_model_module_version": "1.5.0",
            "_model_name": "HTMLModel",
            "_view_count": null,
            "_view_module": "@jupyter-widgets/controls",
            "_view_module_version": "1.5.0",
            "_view_name": "HTMLView",
            "description": "",
            "description_tooltip": null,
            "layout": "IPY_MODEL_5f55abbba905408e8dcb85e9b36785ef",
            "placeholder": "​",
            "style": "IPY_MODEL_feb550b167e2492fa35fa4788e603c6b",
            "value": " 6.57k/6.57k [00:00&lt;00:00, 214kB/s]"
          }
        },
        "15dff2b958f04d828861978c2592a74a": {
          "model_module": "@jupyter-widgets/controls",
          "model_module_version": "1.5.0",
          "model_name": "DescriptionStyleModel",
          "state": {
            "_model_module": "@jupyter-widgets/controls",
            "_model_module_version": "1.5.0",
            "_model_name": "DescriptionStyleModel",
            "_view_count": null,
            "_view_module": "@jupyter-widgets/base",
            "_view_module_version": "1.2.0",
            "_view_name": "StyleView",
            "description_width": ""
          }
        },
        "261d0da2d0144d04a30a8cf35f142199": {
          "model_module": "@jupyter-widgets/controls",
          "model_module_version": "1.5.0",
          "model_name": "ProgressStyleModel",
          "state": {
            "_model_module": "@jupyter-widgets/controls",
            "_model_module_version": "1.5.0",
            "_model_name": "ProgressStyleModel",
            "_view_count": null,
            "_view_module": "@jupyter-widgets/base",
            "_view_module_version": "1.2.0",
            "_view_name": "StyleView",
            "bar_color": null,
            "description_width": ""
          }
        },
        "3d7f35d61fa0448aa81a2ffde37961be": {
          "model_module": "@jupyter-widgets/controls",
          "model_module_version": "1.5.0",
          "model_name": "ProgressStyleModel",
          "state": {
            "_model_module": "@jupyter-widgets/controls",
            "_model_module_version": "1.5.0",
            "_model_name": "ProgressStyleModel",
            "_view_count": null,
            "_view_module": "@jupyter-widgets/base",
            "_view_module_version": "1.2.0",
            "_view_name": "StyleView",
            "bar_color": null,
            "description_width": ""
          }
        },
        "4d368d534a0349c2a0a28d9ca5bc9057": {
          "model_module": "@jupyter-widgets/controls",
          "model_module_version": "1.5.0",
          "model_name": "HBoxModel",
          "state": {
            "_dom_classes": [],
            "_model_module": "@jupyter-widgets/controls",
            "_model_module_version": "1.5.0",
            "_model_name": "HBoxModel",
            "_view_count": null,
            "_view_module": "@jupyter-widgets/controls",
            "_view_module_version": "1.5.0",
            "_view_name": "HBoxView",
            "box_style": "",
            "children": [
              "IPY_MODEL_db4ba3b7497c4ac1a93119beda49fe79",
              "IPY_MODEL_8d72da00f0154e9f93bf75178ee37b1f",
              "IPY_MODEL_880f9ead62064074bbfe2a9af583868b"
            ],
            "layout": "IPY_MODEL_d9cd7849d1ff4609bc9d43c6096d3474"
          }
        },
        "5d54405619fc4f86b8863f9c2b23ba0f": {
          "model_module": "@jupyter-widgets/controls",
          "model_module_version": "1.5.0",
          "model_name": "FloatProgressModel",
          "state": {
            "_dom_classes": [],
            "_model_module": "@jupyter-widgets/controls",
            "_model_module_version": "1.5.0",
            "_model_name": "FloatProgressModel",
            "_view_count": null,
            "_view_module": "@jupyter-widgets/controls",
            "_view_module_version": "1.5.0",
            "_view_name": "ProgressView",
            "bar_style": "success",
            "description": "",
            "description_tooltip": null,
            "layout": "IPY_MODEL_ee41d7dbf5cc47318e4461adab2c3aac",
            "max": 466,
            "min": 0,
            "orientation": "horizontal",
            "style": "IPY_MODEL_db8e98e0e8264b7aa27bcdface298a17",
            "value": 466
          }
        },
        "5f55abbba905408e8dcb85e9b36785ef": {
          "model_module": "@jupyter-widgets/base",
          "model_module_version": "1.2.0",
          "model_name": "LayoutModel",
          "state": {
            "_model_module": "@jupyter-widgets/base",
            "_model_module_version": "1.2.0",
            "_model_name": "LayoutModel",
            "_view_count": null,
            "_view_module": "@jupyter-widgets/base",
            "_view_module_version": "1.2.0",
            "_view_name": "LayoutView",
            "align_content": null,
            "align_items": null,
            "align_self": null,
            "border": null,
            "bottom": null,
            "display": null,
            "flex": null,
            "flex_flow": null,
            "grid_area": null,
            "grid_auto_columns": null,
            "grid_auto_flow": null,
            "grid_auto_rows": null,
            "grid_column": null,
            "grid_gap": null,
            "grid_row": null,
            "grid_template_areas": null,
            "grid_template_columns": null,
            "grid_template_rows": null,
            "height": null,
            "justify_content": null,
            "justify_items": null,
            "left": null,
            "margin": null,
            "max_height": null,
            "max_width": null,
            "min_height": null,
            "min_width": null,
            "object_fit": null,
            "object_position": null,
            "order": null,
            "overflow": null,
            "overflow_x": null,
            "overflow_y": null,
            "padding": null,
            "right": null,
            "top": null,
            "visibility": null,
            "width": null
          }
        },
        "6ade485d62144949a2825699bc68ceb4": {
          "model_module": "@jupyter-widgets/base",
          "model_module_version": "1.2.0",
          "model_name": "LayoutModel",
          "state": {
            "_model_module": "@jupyter-widgets/base",
            "_model_module_version": "1.2.0",
            "_model_name": "LayoutModel",
            "_view_count": null,
            "_view_module": "@jupyter-widgets/base",
            "_view_module_version": "1.2.0",
            "_view_name": "LayoutView",
            "align_content": null,
            "align_items": null,
            "align_self": null,
            "border": null,
            "bottom": null,
            "display": null,
            "flex": null,
            "flex_flow": null,
            "grid_area": null,
            "grid_auto_columns": null,
            "grid_auto_flow": null,
            "grid_auto_rows": null,
            "grid_column": null,
            "grid_gap": null,
            "grid_row": null,
            "grid_template_areas": null,
            "grid_template_columns": null,
            "grid_template_rows": null,
            "height": null,
            "justify_content": null,
            "justify_items": null,
            "left": null,
            "margin": null,
            "max_height": null,
            "max_width": null,
            "min_height": null,
            "min_width": null,
            "object_fit": null,
            "object_position": null,
            "order": null,
            "overflow": null,
            "overflow_x": null,
            "overflow_y": null,
            "padding": null,
            "right": null,
            "top": null,
            "visibility": null,
            "width": null
          }
        },
        "6d12aceba50743a49c4e4d7c62e4fa3e": {
          "model_module": "@jupyter-widgets/controls",
          "model_module_version": "1.5.0",
          "model_name": "DescriptionStyleModel",
          "state": {
            "_model_module": "@jupyter-widgets/controls",
            "_model_module_version": "1.5.0",
            "_model_name": "DescriptionStyleModel",
            "_view_count": null,
            "_view_module": "@jupyter-widgets/base",
            "_view_module_version": "1.2.0",
            "_view_name": "StyleView",
            "description_width": ""
          }
        },
        "7663f3bafcbf4b66b782c0fa51d8f7c4": {
          "model_module": "@jupyter-widgets/base",
          "model_module_version": "1.2.0",
          "model_name": "LayoutModel",
          "state": {
            "_model_module": "@jupyter-widgets/base",
            "_model_module_version": "1.2.0",
            "_model_name": "LayoutModel",
            "_view_count": null,
            "_view_module": "@jupyter-widgets/base",
            "_view_module_version": "1.2.0",
            "_view_name": "LayoutView",
            "align_content": null,
            "align_items": null,
            "align_self": null,
            "border": null,
            "bottom": null,
            "display": null,
            "flex": null,
            "flex_flow": null,
            "grid_area": null,
            "grid_auto_columns": null,
            "grid_auto_flow": null,
            "grid_auto_rows": null,
            "grid_column": null,
            "grid_gap": null,
            "grid_row": null,
            "grid_template_areas": null,
            "grid_template_columns": null,
            "grid_template_rows": null,
            "height": null,
            "justify_content": null,
            "justify_items": null,
            "left": null,
            "margin": null,
            "max_height": null,
            "max_width": null,
            "min_height": null,
            "min_width": null,
            "object_fit": null,
            "object_position": null,
            "order": null,
            "overflow": null,
            "overflow_x": null,
            "overflow_y": null,
            "padding": null,
            "right": null,
            "top": null,
            "visibility": null,
            "width": null
          }
        },
        "880f9ead62064074bbfe2a9af583868b": {
          "model_module": "@jupyter-widgets/controls",
          "model_module_version": "1.5.0",
          "model_name": "HTMLModel",
          "state": {
            "_dom_classes": [],
            "_model_module": "@jupyter-widgets/controls",
            "_model_module_version": "1.5.0",
            "_model_name": "HTMLModel",
            "_view_count": null,
            "_view_module": "@jupyter-widgets/controls",
            "_view_module_version": "1.5.0",
            "_view_name": "HTMLView",
            "description": "",
            "description_tooltip": null,
            "layout": "IPY_MODEL_7663f3bafcbf4b66b782c0fa51d8f7c4",
            "placeholder": "​",
            "style": "IPY_MODEL_6d12aceba50743a49c4e4d7c62e4fa3e",
            "value": " 375M/375M [00:04&lt;00:00, 95.4MB/s]"
          }
        },
        "8d72da00f0154e9f93bf75178ee37b1f": {
          "model_module": "@jupyter-widgets/controls",
          "model_module_version": "1.5.0",
          "model_name": "FloatProgressModel",
          "state": {
            "_dom_classes": [],
            "_model_module": "@jupyter-widgets/controls",
            "_model_module_version": "1.5.0",
            "_model_name": "FloatProgressModel",
            "_view_count": null,
            "_view_module": "@jupyter-widgets/controls",
            "_view_module_version": "1.5.0",
            "_view_name": "ProgressView",
            "bar_style": "success",
            "description": "",
            "description_tooltip": null,
            "layout": "IPY_MODEL_094140fa4b0a42d59bc144177cbecfba",
            "max": 375050165,
            "min": 0,
            "orientation": "horizontal",
            "style": "IPY_MODEL_261d0da2d0144d04a30a8cf35f142199",
            "value": 375050165
          }
        },
        "8ecd7932d6fa42e0b62608279787f49e": {
          "model_module": "@jupyter-widgets/controls",
          "model_module_version": "1.5.0",
          "model_name": "HTMLModel",
          "state": {
            "_dom_classes": [],
            "_model_module": "@jupyter-widgets/controls",
            "_model_module_version": "1.5.0",
            "_model_name": "HTMLModel",
            "_view_count": null,
            "_view_module": "@jupyter-widgets/controls",
            "_view_module_version": "1.5.0",
            "_view_name": "HTMLView",
            "description": "",
            "description_tooltip": null,
            "layout": "IPY_MODEL_6ade485d62144949a2825699bc68ceb4",
            "placeholder": "​",
            "style": "IPY_MODEL_d41546154b4049d7806224f4189f4d7c",
            "value": " 466/466 [00:00&lt;00:00, 22.6kB/s]"
          }
        },
        "93e482eaec584f37a2543dc14a9f8a92": {
          "model_module": "@jupyter-widgets/controls",
          "model_module_version": "1.5.0",
          "model_name": "HBoxModel",
          "state": {
            "_dom_classes": [],
            "_model_module": "@jupyter-widgets/controls",
            "_model_module_version": "1.5.0",
            "_model_name": "HBoxModel",
            "_view_count": null,
            "_view_module": "@jupyter-widgets/controls",
            "_view_module_version": "1.5.0",
            "_view_name": "HBoxView",
            "box_style": "",
            "children": [
              "IPY_MODEL_ff6ec0b6e4fa47108d4624ae771dea93",
              "IPY_MODEL_1139ff3d65544177a81fa2b141ae791d",
              "IPY_MODEL_139f11edfb3047ff80625779d41f78bb"
            ],
            "layout": "IPY_MODEL_ea6a7d5f61c44b7e8f5c07e9a5740c87"
          }
        },
        "959191b121bc45e38b94e88c30fdf555": {
          "model_module": "@jupyter-widgets/controls",
          "model_module_version": "1.5.0",
          "model_name": "HBoxModel",
          "state": {
            "_dom_classes": [],
            "_model_module": "@jupyter-widgets/controls",
            "_model_module_version": "1.5.0",
            "_model_name": "HBoxModel",
            "_view_count": null,
            "_view_module": "@jupyter-widgets/controls",
            "_view_module_version": "1.5.0",
            "_view_name": "HBoxView",
            "box_style": "",
            "children": [
              "IPY_MODEL_caa8bf49992d49fd9f5434541d2c9aec",
              "IPY_MODEL_5d54405619fc4f86b8863f9c2b23ba0f",
              "IPY_MODEL_8ecd7932d6fa42e0b62608279787f49e"
            ],
            "layout": "IPY_MODEL_be402d4dad8347eb93f576164522b81c"
          }
        },
        "9c70d1f1253047ca8355946eca6f9982": {
          "model_module": "@jupyter-widgets/controls",
          "model_module_version": "1.5.0",
          "model_name": "DescriptionStyleModel",
          "state": {
            "_model_module": "@jupyter-widgets/controls",
            "_model_module_version": "1.5.0",
            "_model_name": "DescriptionStyleModel",
            "_view_count": null,
            "_view_module": "@jupyter-widgets/base",
            "_view_module_version": "1.2.0",
            "_view_name": "StyleView",
            "description_width": ""
          }
        },
        "9c7cc659690d41ffb171b59c1b08f684": {
          "model_module": "@jupyter-widgets/controls",
          "model_module_version": "1.5.0",
          "model_name": "DescriptionStyleModel",
          "state": {
            "_model_module": "@jupyter-widgets/controls",
            "_model_module_version": "1.5.0",
            "_model_name": "DescriptionStyleModel",
            "_view_count": null,
            "_view_module": "@jupyter-widgets/base",
            "_view_module_version": "1.2.0",
            "_view_name": "StyleView",
            "description_width": ""
          }
        },
        "be402d4dad8347eb93f576164522b81c": {
          "model_module": "@jupyter-widgets/base",
          "model_module_version": "1.2.0",
          "model_name": "LayoutModel",
          "state": {
            "_model_module": "@jupyter-widgets/base",
            "_model_module_version": "1.2.0",
            "_model_name": "LayoutModel",
            "_view_count": null,
            "_view_module": "@jupyter-widgets/base",
            "_view_module_version": "1.2.0",
            "_view_name": "LayoutView",
            "align_content": null,
            "align_items": null,
            "align_self": null,
            "border": null,
            "bottom": null,
            "display": null,
            "flex": null,
            "flex_flow": null,
            "grid_area": null,
            "grid_auto_columns": null,
            "grid_auto_flow": null,
            "grid_auto_rows": null,
            "grid_column": null,
            "grid_gap": null,
            "grid_row": null,
            "grid_template_areas": null,
            "grid_template_columns": null,
            "grid_template_rows": null,
            "height": null,
            "justify_content": null,
            "justify_items": null,
            "left": null,
            "margin": null,
            "max_height": null,
            "max_width": null,
            "min_height": null,
            "min_width": null,
            "object_fit": null,
            "object_position": null,
            "order": null,
            "overflow": null,
            "overflow_x": null,
            "overflow_y": null,
            "padding": null,
            "right": null,
            "top": null,
            "visibility": null,
            "width": null
          }
        },
        "c984ce7758b94e2eb5f8d68af75719b2": {
          "model_module": "@jupyter-widgets/base",
          "model_module_version": "1.2.0",
          "model_name": "LayoutModel",
          "state": {
            "_model_module": "@jupyter-widgets/base",
            "_model_module_version": "1.2.0",
            "_model_name": "LayoutModel",
            "_view_count": null,
            "_view_module": "@jupyter-widgets/base",
            "_view_module_version": "1.2.0",
            "_view_name": "LayoutView",
            "align_content": null,
            "align_items": null,
            "align_self": null,
            "border": null,
            "bottom": null,
            "display": null,
            "flex": null,
            "flex_flow": null,
            "grid_area": null,
            "grid_auto_columns": null,
            "grid_auto_flow": null,
            "grid_auto_rows": null,
            "grid_column": null,
            "grid_gap": null,
            "grid_row": null,
            "grid_template_areas": null,
            "grid_template_columns": null,
            "grid_template_rows": null,
            "height": null,
            "justify_content": null,
            "justify_items": null,
            "left": null,
            "margin": null,
            "max_height": null,
            "max_width": null,
            "min_height": null,
            "min_width": null,
            "object_fit": null,
            "object_position": null,
            "order": null,
            "overflow": null,
            "overflow_x": null,
            "overflow_y": null,
            "padding": null,
            "right": null,
            "top": null,
            "visibility": null,
            "width": null
          }
        },
        "caa8bf49992d49fd9f5434541d2c9aec": {
          "model_module": "@jupyter-widgets/controls",
          "model_module_version": "1.5.0",
          "model_name": "HTMLModel",
          "state": {
            "_dom_classes": [],
            "_model_module": "@jupyter-widgets/controls",
            "_model_module_version": "1.5.0",
            "_model_name": "HTMLModel",
            "_view_count": null,
            "_view_module": "@jupyter-widgets/controls",
            "_view_module_version": "1.5.0",
            "_view_name": "HTMLView",
            "description": "",
            "description_tooltip": null,
            "layout": "IPY_MODEL_c984ce7758b94e2eb5f8d68af75719b2",
            "placeholder": "​",
            "style": "IPY_MODEL_9c7cc659690d41ffb171b59c1b08f684",
            "value": "Downloading (…)rocessor_config.json: 100%"
          }
        },
        "d41546154b4049d7806224f4189f4d7c": {
          "model_module": "@jupyter-widgets/controls",
          "model_module_version": "1.5.0",
          "model_name": "DescriptionStyleModel",
          "state": {
            "_model_module": "@jupyter-widgets/controls",
            "_model_module_version": "1.5.0",
            "_model_name": "DescriptionStyleModel",
            "_view_count": null,
            "_view_module": "@jupyter-widgets/base",
            "_view_module_version": "1.2.0",
            "_view_name": "StyleView",
            "description_width": ""
          }
        },
        "d9cd7849d1ff4609bc9d43c6096d3474": {
          "model_module": "@jupyter-widgets/base",
          "model_module_version": "1.2.0",
          "model_name": "LayoutModel",
          "state": {
            "_model_module": "@jupyter-widgets/base",
            "_model_module_version": "1.2.0",
            "_model_name": "LayoutModel",
            "_view_count": null,
            "_view_module": "@jupyter-widgets/base",
            "_view_module_version": "1.2.0",
            "_view_name": "LayoutView",
            "align_content": null,
            "align_items": null,
            "align_self": null,
            "border": null,
            "bottom": null,
            "display": null,
            "flex": null,
            "flex_flow": null,
            "grid_area": null,
            "grid_auto_columns": null,
            "grid_auto_flow": null,
            "grid_auto_rows": null,
            "grid_column": null,
            "grid_gap": null,
            "grid_row": null,
            "grid_template_areas": null,
            "grid_template_columns": null,
            "grid_template_rows": null,
            "height": null,
            "justify_content": null,
            "justify_items": null,
            "left": null,
            "margin": null,
            "max_height": null,
            "max_width": null,
            "min_height": null,
            "min_width": null,
            "object_fit": null,
            "object_position": null,
            "order": null,
            "overflow": null,
            "overflow_x": null,
            "overflow_y": null,
            "padding": null,
            "right": null,
            "top": null,
            "visibility": null,
            "width": null
          }
        },
        "db4ba3b7497c4ac1a93119beda49fe79": {
          "model_module": "@jupyter-widgets/controls",
          "model_module_version": "1.5.0",
          "model_name": "HTMLModel",
          "state": {
            "_dom_classes": [],
            "_model_module": "@jupyter-widgets/controls",
            "_model_module_version": "1.5.0",
            "_model_name": "HTMLModel",
            "_view_count": null,
            "_view_module": "@jupyter-widgets/controls",
            "_view_module_version": "1.5.0",
            "_view_name": "HTMLView",
            "description": "",
            "description_tooltip": null,
            "layout": "IPY_MODEL_fda70db0b82f4ef2ab30e2ecb6fb9616",
            "placeholder": "​",
            "style": "IPY_MODEL_9c70d1f1253047ca8355946eca6f9982",
            "value": "Downloading pytorch_model.bin: 100%"
          }
        },
        "db8e98e0e8264b7aa27bcdface298a17": {
          "model_module": "@jupyter-widgets/controls",
          "model_module_version": "1.5.0",
          "model_name": "ProgressStyleModel",
          "state": {
            "_model_module": "@jupyter-widgets/controls",
            "_model_module_version": "1.5.0",
            "_model_name": "ProgressStyleModel",
            "_view_count": null,
            "_view_module": "@jupyter-widgets/base",
            "_view_module_version": "1.2.0",
            "_view_name": "StyleView",
            "bar_color": null,
            "description_width": ""
          }
        },
        "ea6a7d5f61c44b7e8f5c07e9a5740c87": {
          "model_module": "@jupyter-widgets/base",
          "model_module_version": "1.2.0",
          "model_name": "LayoutModel",
          "state": {
            "_model_module": "@jupyter-widgets/base",
            "_model_module_version": "1.2.0",
            "_model_name": "LayoutModel",
            "_view_count": null,
            "_view_module": "@jupyter-widgets/base",
            "_view_module_version": "1.2.0",
            "_view_name": "LayoutView",
            "align_content": null,
            "align_items": null,
            "align_self": null,
            "border": null,
            "bottom": null,
            "display": null,
            "flex": null,
            "flex_flow": null,
            "grid_area": null,
            "grid_auto_columns": null,
            "grid_auto_flow": null,
            "grid_auto_rows": null,
            "grid_column": null,
            "grid_gap": null,
            "grid_row": null,
            "grid_template_areas": null,
            "grid_template_columns": null,
            "grid_template_rows": null,
            "height": null,
            "justify_content": null,
            "justify_items": null,
            "left": null,
            "margin": null,
            "max_height": null,
            "max_width": null,
            "min_height": null,
            "min_width": null,
            "object_fit": null,
            "object_position": null,
            "order": null,
            "overflow": null,
            "overflow_x": null,
            "overflow_y": null,
            "padding": null,
            "right": null,
            "top": null,
            "visibility": null,
            "width": null
          }
        },
        "eb8df011eb6146bea7b0eb30acb61270": {
          "model_module": "@jupyter-widgets/base",
          "model_module_version": "1.2.0",
          "model_name": "LayoutModel",
          "state": {
            "_model_module": "@jupyter-widgets/base",
            "_model_module_version": "1.2.0",
            "_model_name": "LayoutModel",
            "_view_count": null,
            "_view_module": "@jupyter-widgets/base",
            "_view_module_version": "1.2.0",
            "_view_name": "LayoutView",
            "align_content": null,
            "align_items": null,
            "align_self": null,
            "border": null,
            "bottom": null,
            "display": null,
            "flex": null,
            "flex_flow": null,
            "grid_area": null,
            "grid_auto_columns": null,
            "grid_auto_flow": null,
            "grid_auto_rows": null,
            "grid_column": null,
            "grid_gap": null,
            "grid_row": null,
            "grid_template_areas": null,
            "grid_template_columns": null,
            "grid_template_rows": null,
            "height": null,
            "justify_content": null,
            "justify_items": null,
            "left": null,
            "margin": null,
            "max_height": null,
            "max_width": null,
            "min_height": null,
            "min_width": null,
            "object_fit": null,
            "object_position": null,
            "order": null,
            "overflow": null,
            "overflow_x": null,
            "overflow_y": null,
            "padding": null,
            "right": null,
            "top": null,
            "visibility": null,
            "width": null
          }
        },
        "ee41d7dbf5cc47318e4461adab2c3aac": {
          "model_module": "@jupyter-widgets/base",
          "model_module_version": "1.2.0",
          "model_name": "LayoutModel",
          "state": {
            "_model_module": "@jupyter-widgets/base",
            "_model_module_version": "1.2.0",
            "_model_name": "LayoutModel",
            "_view_count": null,
            "_view_module": "@jupyter-widgets/base",
            "_view_module_version": "1.2.0",
            "_view_name": "LayoutView",
            "align_content": null,
            "align_items": null,
            "align_self": null,
            "border": null,
            "bottom": null,
            "display": null,
            "flex": null,
            "flex_flow": null,
            "grid_area": null,
            "grid_auto_columns": null,
            "grid_auto_flow": null,
            "grid_auto_rows": null,
            "grid_column": null,
            "grid_gap": null,
            "grid_row": null,
            "grid_template_areas": null,
            "grid_template_columns": null,
            "grid_template_rows": null,
            "height": null,
            "justify_content": null,
            "justify_items": null,
            "left": null,
            "margin": null,
            "max_height": null,
            "max_width": null,
            "min_height": null,
            "min_width": null,
            "object_fit": null,
            "object_position": null,
            "order": null,
            "overflow": null,
            "overflow_x": null,
            "overflow_y": null,
            "padding": null,
            "right": null,
            "top": null,
            "visibility": null,
            "width": null
          }
        },
        "fda70db0b82f4ef2ab30e2ecb6fb9616": {
          "model_module": "@jupyter-widgets/base",
          "model_module_version": "1.2.0",
          "model_name": "LayoutModel",
          "state": {
            "_model_module": "@jupyter-widgets/base",
            "_model_module_version": "1.2.0",
            "_model_name": "LayoutModel",
            "_view_count": null,
            "_view_module": "@jupyter-widgets/base",
            "_view_module_version": "1.2.0",
            "_view_name": "LayoutView",
            "align_content": null,
            "align_items": null,
            "align_self": null,
            "border": null,
            "bottom": null,
            "display": null,
            "flex": null,
            "flex_flow": null,
            "grid_area": null,
            "grid_auto_columns": null,
            "grid_auto_flow": null,
            "grid_auto_rows": null,
            "grid_column": null,
            "grid_gap": null,
            "grid_row": null,
            "grid_template_areas": null,
            "grid_template_columns": null,
            "grid_template_rows": null,
            "height": null,
            "justify_content": null,
            "justify_items": null,
            "left": null,
            "margin": null,
            "max_height": null,
            "max_width": null,
            "min_height": null,
            "min_width": null,
            "object_fit": null,
            "object_position": null,
            "order": null,
            "overflow": null,
            "overflow_x": null,
            "overflow_y": null,
            "padding": null,
            "right": null,
            "top": null,
            "visibility": null,
            "width": null
          }
        },
        "feb550b167e2492fa35fa4788e603c6b": {
          "model_module": "@jupyter-widgets/controls",
          "model_module_version": "1.5.0",
          "model_name": "DescriptionStyleModel",
          "state": {
            "_model_module": "@jupyter-widgets/controls",
            "_model_module_version": "1.5.0",
            "_model_name": "DescriptionStyleModel",
            "_view_count": null,
            "_view_module": "@jupyter-widgets/base",
            "_view_module_version": "1.2.0",
            "_view_name": "StyleView",
            "description_width": ""
          }
        },
        "ff6ec0b6e4fa47108d4624ae771dea93": {
          "model_module": "@jupyter-widgets/controls",
          "model_module_version": "1.5.0",
          "model_name": "HTMLModel",
          "state": {
            "_dom_classes": [],
            "_model_module": "@jupyter-widgets/controls",
            "_model_module_version": "1.5.0",
            "_model_name": "HTMLModel",
            "_view_count": null,
            "_view_module": "@jupyter-widgets/controls",
            "_view_module_version": "1.5.0",
            "_view_name": "HTMLView",
            "description": "",
            "description_tooltip": null,
            "layout": "IPY_MODEL_0f3107ddc2c34ce597d966c1464b2e2d",
            "placeholder": "​",
            "style": "IPY_MODEL_15dff2b958f04d828861978c2592a74a",
            "value": "Downloading (…)lve/main/config.json: 100%"
          }
        }
      }
    }
  },
  "nbformat": 4,
  "nbformat_minor": 0
}
